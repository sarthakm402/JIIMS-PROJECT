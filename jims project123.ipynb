{
 "cells": [
  {
   "cell_type": "code",
   "execution_count": 2,
   "metadata": {},
   "outputs": [
    {
     "name": "stdout",
     "output_type": "stream",
     "text": [
      "WARNING:tensorflow:From c:\\Users\\sarthak mohapatra\\anaconda3\\Lib\\site-packages\\keras\\src\\losses.py:2976: The name tf.losses.sparse_softmax_cross_entropy is deprecated. Please use tf.compat.v1.losses.sparse_softmax_cross_entropy instead.\n",
      "\n"
     ]
    }
   ],
   "source": [
    "import cv2\n",
    "import numpy as np\n",
    "import pandas as pd\n",
    "import matplotlib.pyplot as plt\n",
    "import tensorflow as tf\n",
    "from tensorflow.keras import layers\n",
    "from keras.callbacks import ReduceLROnPlateau,EarlyStopping"
   ]
  },
  {
   "cell_type": "code",
   "execution_count": 3,
   "metadata": {},
   "outputs": [],
   "source": [
    "\n",
    "batch_size = 100\n",
    "img_height = 300\n",
    "img_width = 300\n"
   ]
  },
  {
   "cell_type": "code",
   "execution_count": 4,
   "metadata": {},
   "outputs": [
    {
     "name": "stdout",
     "output_type": "stream",
     "text": [
      "Found 791 files belonging to 2 classes.\n",
      "Found 100 files belonging to 2 classes.\n",
      "Found 98 files belonging to 2 classes.\n"
     ]
    }
   ],
   "source": [
    "\n",
    "train_set = tf.keras.preprocessing.image_dataset_from_directory(\n",
    "   \"C:\\\\Users\\\\sarthak mohapatra\\\\Downloads\\\\archive\\\\data\\\\train\",\n",
    "    image_size= (img_height, img_width),\n",
    "    batch_size=batch_size\n",
    "\n",
    ")\n",
    "\n",
    "test_set = tf.keras.preprocessing.image_dataset_from_directory(\n",
    "    \"C:\\\\Users\\\\sarthak mohapatra\\\\Downloads\\\\archive\\\\data\\\\test\",\n",
    "    image_size= (img_height, img_width),\n",
    "    batch_size=batch_size)\n",
    "\n",
    "val_set =  tf.keras.preprocessing.image_dataset_from_directory(\n",
    " \"C:\\\\Users\\\\sarthak mohapatra\\\\Downloads\\\\archive\\\\data\\\\val\",\n",
    "\n",
    "    image_size= (img_height, img_width),\n",
    "    batch_size=batch_size)"
   ]
  },
  {
   "cell_type": "code",
   "execution_count": 5,
   "metadata": {},
   "outputs": [
    {
     "name": "stdout",
     "output_type": "stream",
     "text": [
      "['Accident', 'Non Accident']\n"
     ]
    }
   ],
   "source": [
    "class_names = train_set.class_names\n",
    "\n",
    "print(class_names)\n"
   ]
  },
  {
   "cell_type": "code",
   "execution_count": 6,
   "metadata": {},
   "outputs": [],
   "source": [
    "AUTOTUNE = tf.data.experimental.AUTOTUNE\n",
    "train = train_set.cache().prefetch(buffer_size=AUTOTUNE)\n",
    "test = test_set.cache().prefetch(buffer_size=AUTOTUNE)\n",
    "\n",
    "img_shape = (img_height, img_width, 3)"
   ]
  },
  {
   "cell_type": "code",
   "execution_count": 52,
   "metadata": {},
   "outputs": [
    {
     "name": "stdout",
     "output_type": "stream",
     "text": [
      "WARNING:tensorflow:`input_shape` is undefined or non-square, or `rows` is not in [96, 128, 160, 192, 224]. Weights for input shape (224, 224) will be loaded as the default.\n"
     ]
    }
   ],
   "source": [
    "base_model = tf.keras.applications.MobileNetV2(input_shape=img_shape,include_top=False, weights='imagenet')\n",
    "\n",
    "base_model.trainable = False\n",
    "\n",
    "model = tf.keras.Sequential([\n",
    "    base_model,\n",
    "    layers.Conv2D(32, 3, activation='relu'),\n",
    "    layers.Conv2D(64, 3, activation='relu'),\n",
    "    layers.Conv2D(128, 3, activation='relu'),\n",
    "    layers.Flatten(),\n",
    "    layers.Dense(2, activation= 'softmax')\n",
    "])"
   ]
  },
  {
   "cell_type": "code",
   "execution_count": 53,
   "metadata": {},
   "outputs": [],
   "source": [
    "model.compile(optimizer='adam',loss='sparse_categorical_crossentropy', metrics=['accuracy'])\n",
    "lr=ReduceLROnPlateau(monitor='val_accuracy',patience=2,verbse=0.5,factor=0.5,min_lr=0.0001)\n",
    "early_stop=EarlyStopping(monitor='val_loss',patience=2,restore_best_weights=True)\n"
   ]
  },
  {
   "cell_type": "code",
   "execution_count": null,
   "metadata": {},
   "outputs": [],
   "source": []
  },
  {
   "cell_type": "code",
   "execution_count": 100,
   "metadata": {},
   "outputs": [
    {
     "name": "stdout",
     "output_type": "stream",
     "text": [
      "Epoch 1/20\n",
      "8/8 [==============================] - 79s 6s/step - loss: 0.0083 - accuracy: 0.9962 - val_loss: 0.3436 - val_accuracy: 0.9184 - lr: 1.0000e-04\n",
      "Epoch 2/20\n",
      "8/8 [==============================] - 34s 4s/step - loss: 0.0082 - accuracy: 0.9962 - val_loss: 0.3460 - val_accuracy: 0.9184 - lr: 1.0000e-04\n",
      "Epoch 3/20\n",
      "8/8 [==============================] - 24s 3s/step - loss: 0.0081 - accuracy: 0.9949 - val_loss: 0.3485 - val_accuracy: 0.9184 - lr: 1.0000e-04\n",
      "Epoch 4/20\n",
      "8/8 [==============================] - 22s 3s/step - loss: 0.0080 - accuracy: 0.9949 - val_loss: 0.3499 - val_accuracy: 0.9184 - lr: 1.0000e-04\n",
      "Epoch 5/20\n",
      "8/8 [==============================] - 31s 4s/step - loss: 0.0079 - accuracy: 0.9949 - val_loss: 0.3511 - val_accuracy: 0.9184 - lr: 1.0000e-04\n",
      "Epoch 6/20\n",
      "8/8 [==============================] - 33s 4s/step - loss: 0.0079 - accuracy: 0.9949 - val_loss: 0.3526 - val_accuracy: 0.9184 - lr: 1.0000e-04\n",
      "Epoch 7/20\n",
      "8/8 [==============================] - 35s 4s/step - loss: 0.0078 - accuracy: 0.9949 - val_loss: 0.3544 - val_accuracy: 0.9184 - lr: 1.0000e-04\n",
      "Epoch 8/20\n",
      "8/8 [==============================] - 33s 4s/step - loss: 0.0077 - accuracy: 0.9949 - val_loss: 0.3563 - val_accuracy: 0.9184 - lr: 1.0000e-04\n",
      "Epoch 9/20\n",
      "8/8 [==============================] - 36s 5s/step - loss: 0.0076 - accuracy: 0.9937 - val_loss: 0.3578 - val_accuracy: 0.9184 - lr: 1.0000e-04\n",
      "Epoch 10/20\n",
      "8/8 [==============================] - 38s 5s/step - loss: 0.0076 - accuracy: 0.9937 - val_loss: 0.3590 - val_accuracy: 0.9184 - lr: 1.0000e-04\n",
      "Epoch 11/20\n",
      "8/8 [==============================] - 31s 4s/step - loss: 0.0075 - accuracy: 0.9937 - val_loss: 0.3601 - val_accuracy: 0.9184 - lr: 1.0000e-04\n",
      "Epoch 12/20\n",
      "8/8 [==============================] - 33s 4s/step - loss: 0.0074 - accuracy: 0.9937 - val_loss: 0.3613 - val_accuracy: 0.9184 - lr: 1.0000e-04\n",
      "Epoch 13/20\n",
      "8/8 [==============================] - 34s 4s/step - loss: 0.0074 - accuracy: 0.9937 - val_loss: 0.3624 - val_accuracy: 0.9184 - lr: 1.0000e-04\n",
      "Epoch 14/20\n",
      "8/8 [==============================] - 33s 4s/step - loss: 0.0073 - accuracy: 0.9937 - val_loss: 0.3637 - val_accuracy: 0.9184 - lr: 1.0000e-04\n",
      "Epoch 15/20\n",
      "8/8 [==============================] - 33s 4s/step - loss: 0.0073 - accuracy: 0.9937 - val_loss: 0.3647 - val_accuracy: 0.9184 - lr: 1.0000e-04\n",
      "Epoch 16/20\n",
      "8/8 [==============================] - 31s 4s/step - loss: 0.0072 - accuracy: 0.9937 - val_loss: 0.3657 - val_accuracy: 0.9184 - lr: 1.0000e-04\n",
      "Epoch 17/20\n",
      "8/8 [==============================] - 29s 4s/step - loss: 0.0072 - accuracy: 0.9937 - val_loss: 0.3669 - val_accuracy: 0.9184 - lr: 1.0000e-04\n",
      "Epoch 18/20\n",
      "8/8 [==============================] - 33s 4s/step - loss: 0.0072 - accuracy: 0.9924 - val_loss: 0.3683 - val_accuracy: 0.9184 - lr: 1.0000e-04\n",
      "Epoch 19/20\n",
      "8/8 [==============================] - 37s 5s/step - loss: 0.0071 - accuracy: 0.9924 - val_loss: 0.3696 - val_accuracy: 0.9184 - lr: 1.0000e-04\n",
      "Epoch 20/20\n",
      "8/8 [==============================] - 35s 4s/step - loss: 0.0071 - accuracy: 0.9924 - val_loss: 0.3709 - val_accuracy: 0.9184 - lr: 1.0000e-04\n"
     ]
    }
   ],
   "source": [
    "history = model.fit(train, validation_data = val_set, epochs = 20,callbacks=[lr])"
   ]
  },
  {
   "cell_type": "code",
   "execution_count": 101,
   "metadata": {},
   "outputs": [],
   "source": [
    "def predict_frame(img):\n",
    "    img_array = tf.keras.utils.img_to_array(img)\n",
    "    img_batch = np.expand_dims(img_array, axis=0)\n",
    "    prediction=(model.predict(img_batch) > 0.5).astype(\"int32\")\n",
    "    if(prediction[0][0]==0):\n",
    "        return(\"Accident Detected\")\n",
    "    else:\n",
    "        return(\"No Accident\")"
   ]
  },
  {
   "cell_type": "code",
   "execution_count": null,
   "metadata": {},
   "outputs": [],
   "source": []
  },
  {
   "cell_type": "code",
   "execution_count": 102,
   "metadata": {},
   "outputs": [],
   "source": [
    "import cv2"
   ]
  },
  {
   "cell_type": "code",
   "execution_count": 103,
   "metadata": {},
   "outputs": [],
   "source": [
    "\n",
    "# label=[]\n",
    "# c=1\n",
    "# cap=cv2.VideoCapture(0)\n",
    "# #cap= cv2.VideoCapture(\"C:\\\\Users\\\\sarthak mohapatra\\\\Downloads\\\\car vs bike accident cctv video in pollachi.mp4\")\n",
    "# # if not cap.isOpened():\n",
    "# #     print(\"Error: Could not open video file.\")\n",
    "# #     exit()\n",
    "# # while True:\n",
    "# #     grabbed, frame = cap.read()\n",
    "  \n",
    "# #     if not grabbed:\n",
    "# #       print(\"Warning: Failed to read frame from video file.\")  \n",
    "# #       break\n",
    "# #     if c%30==0:\n",
    "# #     #  if frame is not None: \n",
    "             \n",
    "# #           #resized_frame=tf.keras.preprocessing.image.smart_resize(frame, (300, 300), interpolation='bilinear')\n",
    "# #         # image.append(frame)\n",
    "# #      label.append(predict_frame(frame))\n",
    "# #         # if(len(image)==75):\n",
    "# #     cv2.imshow('frame',frame)    #     break\n",
    "# #     c+=1\n",
    "#     # cap.release()\n",
    "# while True:\n",
    "#     ret, frame = cap.read()\n",
    "#     if c%30==0:\n",
    "#      print(c)\n",
    "#      #resize_frame=tf.keras.preprocessing.image.smart_resize(frame,(300,300),interpolation='bilinear')\n",
    "#      predict=predict_frame(frame)\n",
    "#      label.append(predict)\n",
    "#      c+=1\n",
    "#     cv2.imshow('frame',frame)\n",
    "#     key=cv2.waitKey(1)&0xFF\n",
    "#     if  key == ord(\"a\"):\n",
    "#         break\n",
    "# cap.release()\n",
    "# cv2.destroyAllWindows()\n",
    "\n"
   ]
  },
  {
   "cell_type": "code",
   "execution_count": 135,
   "metadata": {},
   "outputs": [
    {
     "name": "stdout",
     "output_type": "stream",
     "text": [
      "1/1 [==============================] - 0s 176ms/step\n"
     ]
    }
   ],
   "source": [
    "label=[]\n",
    "# c=1\n",
    "# cap=cv2.VideoCapture(r\"C:\\Users\\sarthak mohapatra\\Downloads\\15 minutes of heavy traffic noise in India _ 14-08-2022.mp4\")\n",
    "# while True:\n",
    "#     ret, frame = cap.read()\n",
    "#     if c%30==0:\n",
    "#      print(c)\n",
    "#     #ret, frame = cap.read()\n",
    "#      resize_frame=cv2.resize(frame,(300,300))\n",
    "  \n",
    "#      predict=predict_frame(resize_frame)\n",
    "#      label.append(predict)\n",
    "#     c+=1\n",
    "#     cv2.imshow('frame',frame)\n",
    "#     key=cv2.waitKey(1)&0xFF\n",
    "#     if  key == ord(\"a\"):\n",
    "#         break\n",
    "# cap.release()\n",
    "# cv2.destroyAllWindows()\n",
    "cap=cv2.imread(r\"C:\\Users\\sarthak mohapatra\\Desktop\\images.jpeg\")\n",
    "resize_frame=cv2.resize(cap,(300,300))\n",
    "predict=predict_frame(resize_frame)\n",
    "label.append(predict)"
   ]
  },
  {
   "cell_type": "code",
   "execution_count": 136,
   "metadata": {},
   "outputs": [
    {
     "name": "stdout",
     "output_type": "stream",
     "text": [
      "Accident Detected\n"
     ]
    }
   ],
   "source": [
    "print(label[0])"
   ]
  },
  {
   "cell_type": "code",
   "execution_count": null,
   "metadata": {},
   "outputs": [],
   "source": []
  },
  {
   "cell_type": "code",
   "execution_count": null,
   "metadata": {},
   "outputs": [],
   "source": []
  },
  {
   "cell_type": "code",
   "execution_count": null,
   "metadata": {},
   "outputs": [],
   "source": []
  },
  {
   "cell_type": "code",
   "execution_count": null,
   "metadata": {},
   "outputs": [],
   "source": []
  },
  {
   "cell_type": "code",
   "execution_count": null,
   "metadata": {},
   "outputs": [],
   "source": []
  },
  {
   "cell_type": "code",
   "execution_count": null,
   "metadata": {},
   "outputs": [],
   "source": []
  },
  {
   "cell_type": "code",
   "execution_count": null,
   "metadata": {},
   "outputs": [],
   "source": []
  },
  {
   "cell_type": "code",
   "execution_count": null,
   "metadata": {},
   "outputs": [],
   "source": []
  }
 ],
 "metadata": {
  "kernelspec": {
   "display_name": "base",
   "language": "python",
   "name": "python3"
  },
  "language_info": {
   "codemirror_mode": {
    "name": "ipython",
    "version": 3
   },
   "file_extension": ".py",
   "mimetype": "text/x-python",
   "name": "python",
   "nbconvert_exporter": "python",
   "pygments_lexer": "ipython3",
   "version": "3.11.5"
  }
 },
 "nbformat": 4,
 "nbformat_minor": 2
}
