{
 "cells": [
  {
   "cell_type": "code",
   "execution_count": 1,
   "metadata": {},
   "outputs": [
    {
     "name": "stdout",
     "output_type": "stream",
     "text": [
      "WARNING:tensorflow:From c:\\Users\\sarthak mohapatra\\anaconda3\\Lib\\site-packages\\keras\\src\\losses.py:2976: The name tf.losses.sparse_softmax_cross_entropy is deprecated. Please use tf.compat.v1.losses.sparse_softmax_cross_entropy instead.\n",
      "\n"
     ]
    }
   ],
   "source": [
    "import cv2\n",
    "import numpy as np\n",
    "import pandas as pd\n",
    "import matplotlib.pyplot as plt\n",
    "import tensorflow as tf\n",
    "from tensorflow.keras import layers\n",
    "from keras.callbacks import ReduceLROnPlateau,EarlyStopping"
   ]
  },
  {
   "cell_type": "code",
   "execution_count": 2,
   "metadata": {},
   "outputs": [],
   "source": [
    "\n",
    "batch_size = 100\n",
    "img_height = 300\n",
    "img_width = 300\n"
   ]
  },
  {
   "cell_type": "code",
   "execution_count": 3,
   "metadata": {},
   "outputs": [
    {
     "name": "stdout",
     "output_type": "stream",
     "text": [
      "Found 791 files belonging to 2 classes.\n",
      "Found 100 files belonging to 2 classes.\n",
      "Found 98 files belonging to 2 classes.\n"
     ]
    }
   ],
   "source": [
    "\n",
    "train_set = tf.keras.preprocessing.image_dataset_from_directory(\n",
    "   \"C:\\\\Users\\\\sarthak mohapatra\\\\Downloads\\\\archive\\\\data\\\\train\",\n",
    "    image_size= (img_height, img_width),\n",
    "    batch_size=batch_size\n",
    "\n",
    ")\n",
    "\n",
    "test_set = tf.keras.preprocessing.image_dataset_from_directory(\n",
    "    \"C:\\\\Users\\\\sarthak mohapatra\\\\Downloads\\\\archive\\\\data\\\\test\",\n",
    "    image_size= (img_height, img_width),\n",
    "    batch_size=batch_size)\n",
    "\n",
    "val_set =  tf.keras.preprocessing.image_dataset_from_directory(\n",
    " \"C:\\\\Users\\\\sarthak mohapatra\\\\Downloads\\\\archive\\\\data\\\\val\",\n",
    "\n",
    "    image_size= (img_height, img_width),\n",
    "    batch_size=batch_size)"
   ]
  },
  {
   "cell_type": "code",
   "execution_count": 4,
   "metadata": {},
   "outputs": [
    {
     "name": "stdout",
     "output_type": "stream",
     "text": [
      "['Accident', 'Non Accident']\n"
     ]
    }
   ],
   "source": [
    "class_names = train_set.class_names\n",
    "\n",
    "print(class_names)\n"
   ]
  },
  {
   "cell_type": "code",
   "execution_count": 5,
   "metadata": {},
   "outputs": [],
   "source": [
    "AUTOTUNE = tf.data.experimental.AUTOTUNE\n",
    "train = train_set.cache().prefetch(buffer_size=AUTOTUNE)\n",
    "test = test_set.cache().prefetch(buffer_size=AUTOTUNE)\n",
    "\n",
    "img_shape = (img_height, img_width, 3)"
   ]
  },
  {
   "cell_type": "code",
   "execution_count": 6,
   "metadata": {},
   "outputs": [
    {
     "name": "stdout",
     "output_type": "stream",
     "text": [
      "WARNING:tensorflow:`input_shape` is undefined or non-square, or `rows` is not in [96, 128, 160, 192, 224]. Weights for input shape (224, 224) will be loaded as the default.\n",
      "WARNING:tensorflow:From c:\\Users\\sarthak mohapatra\\anaconda3\\Lib\\site-packages\\keras\\src\\backend.py:1398: The name tf.executing_eagerly_outside_functions is deprecated. Please use tf.compat.v1.executing_eagerly_outside_functions instead.\n",
      "\n",
      "WARNING:tensorflow:From c:\\Users\\sarthak mohapatra\\anaconda3\\Lib\\site-packages\\keras\\src\\layers\\normalization\\batch_normalization.py:979: The name tf.nn.fused_batch_norm is deprecated. Please use tf.compat.v1.nn.fused_batch_norm instead.\n",
      "\n"
     ]
    }
   ],
   "source": [
    "base_model = tf.keras.applications.MobileNetV2(input_shape=img_shape,include_top=False, weights='imagenet')\n",
    "\n",
    "base_model.trainable = False\n",
    "\n",
    "model = tf.keras.Sequential([\n",
    "    base_model,\n",
    "    layers.Conv2D(32, 3, activation='relu'),\n",
    "    layers.Conv2D(64, 3, activation='relu'),\n",
    "    layers.Conv2D(128, 3, activation='relu'),\n",
    "    layers.Flatten(),\n",
    "    layers.Dense(2, activation= 'softmax')\n",
    "])"
   ]
  },
  {
   "cell_type": "code",
   "execution_count": 7,
   "metadata": {},
   "outputs": [
    {
     "name": "stdout",
     "output_type": "stream",
     "text": [
      "WARNING:tensorflow:From c:\\Users\\sarthak mohapatra\\anaconda3\\Lib\\site-packages\\keras\\src\\optimizers\\__init__.py:309: The name tf.train.Optimizer is deprecated. Please use tf.compat.v1.train.Optimizer instead.\n",
      "\n"
     ]
    }
   ],
   "source": [
    "model.compile(optimizer='adam',loss='sparse_categorical_crossentropy', metrics=['accuracy'])\n",
    "lr=ReduceLROnPlateau(monitor='val_accuracy',patience=2,verbse=0.5,factor=0.5,min_lr=0.0001)\n",
    "early_stop=EarlyStopping(monitor='val_loss',patience=2,restore_best_weights=True)\n"
   ]
  },
  {
   "cell_type": "code",
   "execution_count": 8,
   "metadata": {},
   "outputs": [
    {
     "name": "stdout",
     "output_type": "stream",
     "text": [
      "Epoch 1/20\n",
      "WARNING:tensorflow:From c:\\Users\\sarthak mohapatra\\anaconda3\\Lib\\site-packages\\keras\\src\\utils\\tf_utils.py:492: The name tf.ragged.RaggedTensorValue is deprecated. Please use tf.compat.v1.ragged.RaggedTensorValue instead.\n",
      "\n",
      "WARNING:tensorflow:From c:\\Users\\sarthak mohapatra\\anaconda3\\Lib\\site-packages\\keras\\src\\engine\\base_layer_utils.py:384: The name tf.executing_eagerly_outside_functions is deprecated. Please use tf.compat.v1.executing_eagerly_outside_functions instead.\n",
      "\n",
      "8/8 [==============================] - 31s 2s/step - loss: 0.8631 - accuracy: 0.5550 - val_loss: 0.5896 - val_accuracy: 0.7143 - lr: 0.0010\n",
      "Epoch 2/20\n",
      "8/8 [==============================] - 17s 2s/step - loss: 0.5413 - accuracy: 0.7459 - val_loss: 0.4275 - val_accuracy: 0.8163 - lr: 0.0010\n",
      "Epoch 3/20\n",
      "8/8 [==============================] - 17s 2s/step - loss: 0.3887 - accuracy: 0.8255 - val_loss: 0.3305 - val_accuracy: 0.8571 - lr: 0.0010\n",
      "Epoch 4/20\n",
      "8/8 [==============================] - 16s 2s/step - loss: 0.2278 - accuracy: 0.9128 - val_loss: 0.2961 - val_accuracy: 0.8980 - lr: 0.0010\n",
      "Epoch 5/20\n",
      "8/8 [==============================] - 17s 2s/step - loss: 0.1497 - accuracy: 0.9381 - val_loss: 0.2450 - val_accuracy: 0.8776 - lr: 0.0010\n",
      "Epoch 6/20\n",
      "8/8 [==============================] - 17s 2s/step - loss: 0.0741 - accuracy: 0.9785 - val_loss: 0.2246 - val_accuracy: 0.9184 - lr: 0.0010\n",
      "Epoch 7/20\n",
      "8/8 [==============================] - 18s 2s/step - loss: 0.0555 - accuracy: 0.9861 - val_loss: 0.2301 - val_accuracy: 0.9184 - lr: 0.0010\n",
      "Epoch 8/20\n",
      "8/8 [==============================] - 17s 2s/step - loss: 0.0398 - accuracy: 0.9848 - val_loss: 0.2547 - val_accuracy: 0.9184 - lr: 0.0010\n",
      "Epoch 9/20\n",
      "8/8 [==============================] - 17s 2s/step - loss: 0.0667 - accuracy: 0.9760 - val_loss: 0.2486 - val_accuracy: 0.9286 - lr: 5.0000e-04\n",
      "Epoch 10/20\n",
      "8/8 [==============================] - 17s 2s/step - loss: 0.0613 - accuracy: 0.9772 - val_loss: 0.4264 - val_accuracy: 0.8571 - lr: 5.0000e-04\n",
      "Epoch 11/20\n",
      "8/8 [==============================] - 17s 2s/step - loss: 0.0380 - accuracy: 0.9861 - val_loss: 0.2233 - val_accuracy: 0.9082 - lr: 5.0000e-04\n",
      "Epoch 12/20\n",
      "8/8 [==============================] - 18s 2s/step - loss: 0.0302 - accuracy: 0.9899 - val_loss: 0.2815 - val_accuracy: 0.8980 - lr: 2.5000e-04\n",
      "Epoch 13/20\n",
      "8/8 [==============================] - 17s 2s/step - loss: 0.0184 - accuracy: 0.9949 - val_loss: 0.2517 - val_accuracy: 0.9082 - lr: 2.5000e-04\n",
      "Epoch 14/20\n",
      "8/8 [==============================] - 18s 2s/step - loss: 0.0136 - accuracy: 0.9949 - val_loss: 0.2287 - val_accuracy: 0.9184 - lr: 1.2500e-04\n",
      "Epoch 15/20\n",
      "8/8 [==============================] - 18s 2s/step - loss: 0.0129 - accuracy: 0.9962 - val_loss: 0.2416 - val_accuracy: 0.9184 - lr: 1.2500e-04\n",
      "Epoch 16/20\n",
      "8/8 [==============================] - 17s 2s/step - loss: 0.0121 - accuracy: 0.9949 - val_loss: 0.2535 - val_accuracy: 0.9082 - lr: 1.0000e-04\n",
      "Epoch 17/20\n",
      "8/8 [==============================] - 18s 2s/step - loss: 0.0117 - accuracy: 0.9962 - val_loss: 0.2528 - val_accuracy: 0.9184 - lr: 1.0000e-04\n",
      "Epoch 18/20\n",
      "8/8 [==============================] - 17s 2s/step - loss: 0.0113 - accuracy: 0.9962 - val_loss: 0.2494 - val_accuracy: 0.9184 - lr: 1.0000e-04\n",
      "Epoch 19/20\n",
      "8/8 [==============================] - 18s 2s/step - loss: 0.0110 - accuracy: 0.9949 - val_loss: 0.2513 - val_accuracy: 0.9184 - lr: 1.0000e-04\n",
      "Epoch 20/20\n",
      "8/8 [==============================] - 17s 2s/step - loss: 0.0108 - accuracy: 0.9949 - val_loss: 0.2557 - val_accuracy: 0.9184 - lr: 1.0000e-04\n"
     ]
    }
   ],
   "source": [
    "history = model.fit(train, validation_data = val_set, epochs = 20,callbacks=[lr])"
   ]
  },
  {
   "cell_type": "code",
   "execution_count": 9,
   "metadata": {},
   "outputs": [],
   "source": [
    "def predict_frame(img):\n",
    "    img_array = tf.keras.utils.img_to_array(img)\n",
    "    img_batch = np.expand_dims(img_array, axis=0)\n",
    "    prediction=(model.predict(img_batch) > 0.5).astype(\"int32\")\n",
    "    if(prediction[0][0]==0):\n",
    "        return(\"Accident Detected\")\n",
    "    else:\n",
    "        return(\"No Accident\")"
   ]
  },
  {
   "cell_type": "code",
   "execution_count": null,
   "metadata": {},
   "outputs": [],
   "source": []
  },
  {
   "cell_type": "code",
   "execution_count": null,
   "metadata": {},
   "outputs": [],
   "source": []
  },
  {
   "cell_type": "code",
   "execution_count": null,
   "metadata": {},
   "outputs": [],
   "source": []
  },
  {
   "cell_type": "code",
   "execution_count": 10,
   "metadata": {},
   "outputs": [],
   "source": [
    "import cv2"
   ]
  },
  {
   "cell_type": "code",
   "execution_count": 11,
   "metadata": {},
   "outputs": [],
   "source": [
    "\n",
    "# label=[]\n",
    "# c=1\n",
    "# cap=cv2.VideoCapture(0)\n",
    "# #cap= cv2.VideoCapture(\"C:\\\\Users\\\\sarthak mohapatra\\\\Downloads\\\\car vs bike accident cctv video in pollachi.mp4\")\n",
    "# # if not cap.isOpened():\n",
    "# #     print(\"Error: Could not open video file.\")\n",
    "# #     exit()\n",
    "# # while True:\n",
    "# #     grabbed, frame = cap.read()\n",
    "  \n",
    "# #     if not grabbed:\n",
    "# #       print(\"Warning: Failed to read frame from video file.\")  \n",
    "# #       break\n",
    "# #     if c%30==0:\n",
    "# #     #  if frame is not None: \n",
    "             \n",
    "# #           #resized_frame=tf.keras.preprocessing.image.smart_resize(frame, (300, 300), interpolation='bilinear')\n",
    "# #         # image.append(frame)\n",
    "# #      label.append(predict_frame(frame))\n",
    "# #         # if(len(image)==75):\n",
    "# #     cv2.imshow('frame',frame)    #     break\n",
    "# #     c+=1\n",
    "#     # cap.release()\n",
    "# while True:\n",
    "#     ret, frame = cap.read()\n",
    "#     if c%30==0:\n",
    "#      print(c)\n",
    "#      #resize_frame=tf.keras.preprocessing.image.smart_resize(frame,(300,300),interpolation='bilinear')\n",
    "#      predict=predict_frame(frame)\n",
    "#      label.append(predict)\n",
    "#      c+=1\n",
    "#     cv2.imshow('frame',frame)\n",
    "#     key=cv2.waitKey(1)&0xFF\n",
    "#     if  key == ord(\"a\"):\n",
    "#         break\n",
    "# cap.release()\n",
    "# cv2.destroyAllWindows()\n",
    "\n"
   ]
  },
  {
   "cell_type": "code",
   "execution_count": 92,
   "metadata": {},
   "outputs": [
    {
     "name": "stdout",
     "output_type": "stream",
     "text": [
      "30\n",
      "1/1 [==============================] - 0s 79ms/step\n",
      "60\n",
      "1/1 [==============================] - 0s 74ms/step\n",
      "90\n",
      "1/1 [==============================] - 0s 81ms/step\n",
      "120\n",
      "1/1 [==============================] - 0s 72ms/step\n",
      "150\n",
      "1/1 [==============================] - 0s 75ms/step\n",
      "180\n",
      "1/1 [==============================] - 0s 68ms/step\n",
      "210\n",
      "1/1 [==============================] - 0s 66ms/step\n",
      "240\n",
      "1/1 [==============================] - 0s 68ms/step\n",
      "270\n",
      "1/1 [==============================] - 0s 84ms/step\n",
      "300\n",
      "1/1 [==============================] - 0s 65ms/step\n",
      "330\n",
      "1/1 [==============================] - 0s 79ms/step\n",
      "360\n",
      "1/1 [==============================] - 0s 65ms/step\n",
      "390\n",
      "1/1 [==============================] - 0s 65ms/step\n",
      "420\n",
      "1/1 [==============================] - 0s 59ms/step\n",
      "450\n",
      "1/1 [==============================] - 0s 67ms/step\n",
      "480\n",
      "1/1 [==============================] - 0s 64ms/step\n",
      "510\n",
      "1/1 [==============================] - 0s 64ms/step\n",
      "540\n",
      "1/1 [==============================] - 0s 61ms/step\n",
      "570\n",
      "1/1 [==============================] - 0s 64ms/step\n",
      "600\n",
      "1/1 [==============================] - 0s 68ms/step\n",
      "630\n",
      "1/1 [==============================] - 0s 66ms/step\n",
      "660\n",
      "1/1 [==============================] - 0s 63ms/step\n",
      "690\n",
      "1/1 [==============================] - 0s 61ms/step\n",
      "720\n",
      "1/1 [==============================] - 0s 68ms/step\n",
      "750\n",
      "1/1 [==============================] - 0s 61ms/step\n"
     ]
    }
   ],
   "source": [
    "label=[]\n",
    "c=1\n",
    "cap=cv2.VideoCapture(r\"C:\\Users\\sarthak mohapatra\\Downloads\\15 minutes of heavy traffic noise in India _ 14-08-2022.mp4\")\n",
    "while True:\n",
    "    ret, frame = cap.read()\n",
    "    if c%30==0:\n",
    "     print(c)\n",
    "    #ret, frame = cap.read()\n",
    "     resize_frame=cv2.resize(frame,(300,300))\n",
    "  \n",
    "     predict=predict_frame(resize_frame)\n",
    "     label.append(predict)\n",
    "    c+=1\n",
    "    cv2.imshow('frame',frame)\n",
    "    key=cv2.waitKey(1)&0xFF\n",
    "    if  key == ord(\"a\"):\n",
    "        break\n",
    "cap.release()\n",
    "cv2.destroyAllWindows()\n"
   ]
  },
  {
   "cell_type": "code",
   "execution_count": 99,
   "metadata": {},
   "outputs": [
    {
     "name": "stdout",
     "output_type": "stream",
     "text": [
      "No Accident\n"
     ]
    }
   ],
   "source": [
    "print(label[10])"
   ]
  },
  {
   "cell_type": "code",
   "execution_count": null,
   "metadata": {},
   "outputs": [],
   "source": []
  },
  {
   "cell_type": "code",
   "execution_count": null,
   "metadata": {},
   "outputs": [],
   "source": []
  },
  {
   "cell_type": "code",
   "execution_count": null,
   "metadata": {},
   "outputs": [],
   "source": []
  },
  {
   "cell_type": "code",
   "execution_count": null,
   "metadata": {},
   "outputs": [],
   "source": []
  },
  {
   "cell_type": "code",
   "execution_count": null,
   "metadata": {},
   "outputs": [],
   "source": []
  },
  {
   "cell_type": "code",
   "execution_count": null,
   "metadata": {},
   "outputs": [],
   "source": []
  },
  {
   "cell_type": "code",
   "execution_count": null,
   "metadata": {},
   "outputs": [],
   "source": []
  },
  {
   "cell_type": "code",
   "execution_count": null,
   "metadata": {},
   "outputs": [],
   "source": []
  },
  {
   "cell_type": "code",
   "execution_count": null,
   "metadata": {},
   "outputs": [],
   "source": []
  }
 ],
 "metadata": {
  "kernelspec": {
   "display_name": "base",
   "language": "python",
   "name": "python3"
  },
  "language_info": {
   "codemirror_mode": {
    "name": "ipython",
    "version": 3
   },
   "file_extension": ".py",
   "mimetype": "text/x-python",
   "name": "python",
   "nbconvert_exporter": "python",
   "pygments_lexer": "ipython3",
   "version": "3.11.5"
  }
 },
 "nbformat": 4,
 "nbformat_minor": 2
}
